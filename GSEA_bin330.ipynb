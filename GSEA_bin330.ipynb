{
 "cells": [
  {
   "cell_type": "markdown",
   "id": "48e92e82",
   "metadata": {},
   "source": [
    " # Load the relevant packages"
   ]
  },
  {
   "cell_type": "code",
   "execution_count": 8,
   "id": "d642a2b9",
   "metadata": {},
   "outputs": [],
   "source": [
    "library(\"BPSC\")\n",
    "library(\"SingleCellExperiment\")\n",
    "library(\"scater\")\n",
    "library(\"biomaRt\")\n",
    "library(\"Matrix\")\n",
    "library('scuttle')\n",
    "library(\"pheatmap\")\n",
    "library(\"MAST\")\n",
    "library(\"iDEA\")\n",
    "library(\"ggrepel\")"
   ]
  },
  {
   "cell_type": "markdown",
   "id": "c248cf6a",
   "metadata": {},
   "source": [
    "# Load workspace, so that all relevant info is loaded at once"
   ]
  },
  {
   "cell_type": "code",
   "execution_count": 2,
   "id": "8f58958d",
   "metadata": {},
   "outputs": [],
   "source": [
    "load(\"workspace_bin330.RData\")"
   ]
  },
  {
   "cell_type": "markdown",
   "id": "e9c5292a",
   "metadata": {},
   "source": [
    "Has the following data:\n",
    "- loaded the data\n",
    "- cleaning and quality control\n",
    "- normalization\n",
    "- cell type info\n",
    "- biomRt\n",
    "- Generalization: combinations, annotation as df, genes of interest\n",
    "- result of iDEA for-loop run on 90 comparisons. \n",
    "\n",
    "So, from here you can jump to visualization"
   ]
  },
  {
   "cell_type": "markdown",
   "id": "10b08fc1",
   "metadata": {},
   "source": [
    "# Load the data: start with count matrix, then gene and cell annotation data."
   ]
  },
  {
   "cell_type": "code",
   "execution_count": 3,
   "id": "3f441627",
   "metadata": {},
   "outputs": [],
   "source": [
    "gene_by_cell_count_matrix <- read.csv(\"GSE126954_gene_by_cell_count_matrix.txt\", sep = \"\")[,1:3]"
   ]
  },
  {
   "cell_type": "code",
   "execution_count": 4,
   "id": "9a6604c3",
   "metadata": {},
   "outputs": [],
   "source": [
    "gene_annotation <- read.csv(\"GSE126954_gene_annotation.csv\")[,2:3]\n",
    "cell_annotation <- read.csv(\"GSE126954_cell_annotation.csv\")[,-1]"
   ]
  },
  {
   "cell_type": "markdown",
   "id": "e3bad9ac",
   "metadata": {},
   "source": [
    "Generate a sparse matrix from the counts matrix. Rows represent a gene, columns represent a cell."
   ]
  },
  {
   "cell_type": "code",
   "execution_count": 5,
   "id": "83b38d31",
   "metadata": {},
   "outputs": [],
   "source": [
    "data_matrix = sparseMatrix(i=gene_by_cell_count_matrix$X..MatrixMarket,\n",
    "                          j=gene_by_cell_count_matrix$matrix,\n",
    "                          x=gene_by_cell_count_matrix$coordinate\n",
    "                           )\n",
    "rownames(data_matrix)=gene_annotation[,1]\n",
    "colnames(data_matrix)=cell_annotation[,1]"
   ]
  },
  {
   "cell_type": "code",
   "execution_count": 6,
   "id": "330252b9",
   "metadata": {},
   "outputs": [
    {
     "name": "stderr",
     "output_type": "stream",
     "text": [
      "   [[ suppressing 34 column names ‘AAACCTGAGACAATAC-300.1.1’, ‘AAACCTGAGGGCTCTC-300.1.1’, ‘AAACCTGAGTGCGTGA-300.1.1’ ... ]]\n",
      "\n"
     ]
    },
    {
     "data": {
      "text/plain": [
       "6 x 89701 sparse Matrix of class \"dgCMatrix\"\n",
       "                                                                               \n",
       "WBGene00010957 5 20 37 26 4 1 73 7 17 12 10 11 2 4  7 10 0 21 26 11 29 1 39 5 6\n",
       "WBGene00010958 .  .  .  1 . .  . .  .  .  .  . . .  .  . .  3  1  .  1 .  2 . .\n",
       "WBGene00010959 0  7 16 14 2 . 38 2 10  5  4  9 2 6  4  0 . 14  7  5  8 1 25 3 1\n",
       "WBGene00010960 7 17 28 52 7 . 76 0 16  8  9  5 6 5 12  0 1 38 19  5 21 1 95 6 6\n",
       "WBGene00010961 3  .  0  5 . 2  9 1  2  2  2  . . 2  0  . 1  3  2  2  4 .  5 1 .\n",
       "WBGene00000829 5  5 13 17 . 0 17 0 11  1  5  3 5 3  4  1 1 13  4  1 11 2 14 4 1\n",
       "                                             \n",
       "WBGene00010957  5 3 70 10 11 4 16 3 28 ......\n",
       "WBGene00010958  1 .  2  .  . .  . 1  2 ......\n",
       "WBGene00010959  1 1 48  6  4 2 17 3 26 ......\n",
       "WBGene00010960 10 3 91  9 16 2 23 2 76 ......\n",
       "WBGene00010961  . .  5  .  . 1  3 3  5 ......\n",
       "WBGene00000829  5 2 25  1  4 0  6 6  9 ......\n",
       "\n",
       " .....suppressing 89667 columns in show(); maybe adjust 'options(max.print= *, width = *)'\n",
       " .............................."
      ]
     },
     "metadata": {},
     "output_type": "display_data"
    },
    {
     "data": {
      "text/html": [
       "<style>\n",
       ".list-inline {list-style: none; margin:0; padding: 0}\n",
       ".list-inline>li {display: inline-block}\n",
       ".list-inline>li:not(:last-child)::after {content: \"\\00b7\"; padding: 0 .5ex}\n",
       "</style>\n",
       "<ol class=list-inline><li>20222</li><li>89701</li></ol>\n"
      ],
      "text/latex": [
       "\\begin{enumerate*}\n",
       "\\item 20222\n",
       "\\item 89701\n",
       "\\end{enumerate*}\n"
      ],
      "text/markdown": [
       "1. 20222\n",
       "2. 89701\n",
       "\n",
       "\n"
      ],
      "text/plain": [
       "[1] 20222 89701"
      ]
     },
     "metadata": {},
     "output_type": "display_data"
    }
   ],
   "source": [
    "head(data_matrix)\n",
    "dim(data_matrix)"
   ]
  },
  {
   "cell_type": "markdown",
   "id": "e85b87d5",
   "metadata": {},
   "source": [
    "Select one time bin."
   ]
  },
  {
   "cell_type": "code",
   "execution_count": 7,
   "id": "92e1a5fe",
   "metadata": {},
   "outputs": [],
   "source": [
    "cells_bin = cell_annotation[cell_annotation$raw.embryo.time.bin==\"330-390\",]\n",
    "data_matrix = data_matrix[,as.numeric(unlist(rownames(cells_bin)))]"
   ]
  },
  {
   "cell_type": "markdown",
   "id": "2a8262ca",
   "metadata": {},
   "source": [
    "Create SingleCellExperiment objects"
   ]
  },
  {
   "cell_type": "code",
   "execution_count": 8,
   "id": "25d32cb8",
   "metadata": {},
   "outputs": [],
   "source": [
    "sce <- SingleCellExperiment(\n",
    "  assays = list(counts = data_matrix),\n",
    "  rowData = data.frame(gene_names = rownames(data_matrix)),\n",
    "  colData = data.frame(cell_names = colnames(data_matrix))\n",
    ")"
   ]
  },
  {
   "cell_type": "markdown",
   "id": "d74e43a4",
   "metadata": {},
   "source": [
    "# Cleaning & QC"
   ]
  },
  {
   "cell_type": "markdown",
   "id": "b1ef0b9e",
   "metadata": {},
   "source": [
    "Use this object to clean the dataset by removing genes that are not expressed in any cell"
   ]
  },
  {
   "cell_type": "code",
   "execution_count": 9,
   "id": "29f5a43a",
   "metadata": {},
   "outputs": [],
   "source": [
    "## Remove genes that are not expressed in any cell\n",
    "keep_feature <- rowSums(counts(sce) > 0) > 0\n",
    "sce_filtered <- SingleCellExperiment(\n",
    "  assays = list(counts = counts(sce)[keep_feature, ]),\n",
    "  rowData = data.frame(gene_names = rowData(sce)[keep_feature,]),\n",
    "  colData = data.frame(cell_names = colData(sce))\n",
    ")"
   ]
  },
  {
   "cell_type": "markdown",
   "id": "01b8e4d1",
   "metadata": {},
   "source": [
    "Do some quality control"
   ]
  },
  {
   "cell_type": "code",
   "execution_count": 10,
   "id": "84bcfa28",
   "metadata": {},
   "outputs": [
    {
     "data": {
      "image/png": "[encoded data removed]",
      "text/plain": [
       "Plot with title “Histogram of sce_filtered$total”"
      ]
     },
     "metadata": {
      "image/png": {
       "height": 420,
       "width": 420
      }
     },
     "output_type": "display_data"
    }
   ],
   "source": [
    "sce_filtered <- addPerCellQC(sce_filtered)\n",
    "sce_filtered <- addPerFeatureQC(sce_filtered)\n",
    "hist(sce_filtered$total, breaks = 100) #hist of counts per cell"
   ]
  },
  {
   "cell_type": "code",
   "execution_count": 11,
   "id": "27e760d1",
   "metadata": {},
   "outputs": [
    {
     "data": {
      "image/png": "[encoded data removed]",
      "text/plain": [
       "Plot with title “Histogram of unique_genes_per_cell”"
      ]
     },
     "metadata": {
      "image/png": {
       "height": 420,
       "width": 420
      }
     },
     "output_type": "display_data"
    }
   ],
   "source": [
    "unique_genes_per_cell <- colSums(counts(sce)>0)\n",
    "hist(unique_genes_per_cell,breaks=100) #hist of unique genes per cell"
   ]
  },
  {
   "cell_type": "markdown",
   "id": "51186caf",
   "metadata": {},
   "source": [
    "If needed, these histograms can be used to determine thresholds for further filtering. "
   ]
  },
  {
   "cell_type": "markdown",
   "id": "67df0ee8",
   "metadata": {},
   "source": [
    "# Normalize the counts using CPM"
   ]
  },
  {
   "cell_type": "code",
   "execution_count": 12,
   "id": "d9d7b4ad",
   "metadata": {},
   "outputs": [],
   "source": [
    "cpm(sce_filtered) <- calculateCPM(sce_filtered) # using scater package\n",
    "sce_filtered <- logNormCounts(sce_filtered,transform=\"log\") \n",
    "# this logNormCounts function comes from scuttle package. Do not change sce_filtered into logcounts(sce_filtered) although that seems more logical.\n",
    "# The CPM and log counts are now stored in this sce_filtered SCE object\n",
    "# str(sce_filtered) shows the hierarchical structure of this SCE object"
   ]
  },
  {
   "cell_type": "code",
   "execution_count": 13,
   "id": "2944f21c",
   "metadata": {},
   "outputs": [],
   "source": [
    "# Sparse matrices for further analysis\n",
    "sce_cpm <- cpm(sce_filtered) # CPM for BPSC input\n",
    "sce_log <- sce_filtered@assays@data@listData$logcounts # log transformed counts for heatmap input"
   ]
  },
  {
   "cell_type": "markdown",
   "id": "ef32440f",
   "metadata": {},
   "source": [
    "# Cell Type Info"
   ]
  },
  {
   "cell_type": "markdown",
   "id": "2807d7bd",
   "metadata": {},
   "source": [
    "Generate the column indices of the gene expression matrix corresponding to each cell type.\n",
    "First, generate the cell types included in the matrix being analyzed and make them correspond to the cell names (column names of the matrix)cell_annotation[,6] contains the cell types we need. We use them to split the data into groups containing gene expression of different cell types. dimnames(sce_cpm)[[2]] contains the column names of the sparse matrix."
   ]
  },
  {
   "cell_type": "code",
   "execution_count": 14,
   "id": "624dba4d",
   "metadata": {},
   "outputs": [],
   "source": [
    "cell_type <- cell_annotation[cell_annotation$cell %in% dimnames(sce_cpm)[[2]],6] "
   ]
  },
  {
   "cell_type": "markdown",
   "id": "ee2b2130",
   "metadata": {},
   "source": [
    "Unique values in the vector cell_type that is not NA. We do not want to take the type-unidentified (na) cells into the differential expression analysis."
   ]
  },
  {
   "cell_type": "code",
   "execution_count": 15,
   "id": "8d992a35",
   "metadata": {},
   "outputs": [
    {
     "data": {
      "text/html": [
       "<style>\n",
       ".list-inline {list-style: none; margin:0; padding: 0}\n",
       ".list-inline>li {display: inline-block}\n",
       ".list-inline>li:not(:last-child)::after {content: \"\\00b7\"; padding: 0 .5ex}\n",
       "</style>\n",
       "<ol class=list-inline><li>'Body_wall_muscle'</li><li>'Ciliated_amphid_neuron'</li><li>'Hypodermis'</li><li>'Ciliated_non_amphid_neuron'</li><li>'Seam_cell'</li><li>'Intestine'</li><li>'GLR'</li><li>'Z1_Z4'</li><li>'Pharyngeal_muscle'</li><li>'Pharyngeal_marginal_cell'</li><li>'Pharyngeal_gland'</li><li>'Intestinal_and_rectal_muscle'</li><li>'G2_and_W_blasts'</li><li>'Glia'</li><li>'hmc_and_homolog'</li><li>'Parent_of_exc_gland_AVK'</li><li>'Pharyngeal_intestinal_valve'</li><li>'Coelomocyte'</li><li>'hmc_homolog'</li><li>'Excretory_cell'</li><li>'Pharyngeal_neuron'</li><li>'hyp1V_and_ant_arc_V'</li><li>'M_cell'</li><li>'Rectal_cell'</li><li>'ABarpaaa_lineage'</li><li>'hmc'</li><li>'Rectal_gland'</li><li>'Excretory_duct_and_pore'</li><li>'Excretory_gland'</li><li>'Parent_of_hyp1V_and_ant_arc_V'</li><li>'Arcade_cell'</li><li>'XXX'</li><li>'Germline'</li><li>'T'</li></ol>\n"
      ],
      "text/latex": [
       "\\begin{enumerate*}\n",
       "\\item 'Body\\_wall\\_muscle'\n",
       "\\item 'Ciliated\\_amphid\\_neuron'\n",
       "\\item 'Hypodermis'\n",
       "\\item 'Ciliated\\_non\\_amphid\\_neuron'\n",
       "\\item 'Seam\\_cell'\n",
       "\\item 'Intestine'\n",
       "\\item 'GLR'\n",
       "\\item 'Z1\\_Z4'\n",
       "\\item 'Pharyngeal\\_muscle'\n",
       "\\item 'Pharyngeal\\_marginal\\_cell'\n",
       "\\item 'Pharyngeal\\_gland'\n",
       "\\item 'Intestinal\\_and\\_rectal\\_muscle'\n",
       "\\item 'G2\\_and\\_W\\_blasts'\n",
       "\\item 'Glia'\n",
       "\\item 'hmc\\_and\\_homolog'\n",
       "\\item 'Parent\\_of\\_exc\\_gland\\_AVK'\n",
       "\\item 'Pharyngeal\\_intestinal\\_valve'\n",
       "\\item 'Coelomocyte'\n",
       "\\item 'hmc\\_homolog'\n",
       "\\item 'Excretory\\_cell'\n",
       "\\item 'Pharyngeal\\_neuron'\n",
       "\\item 'hyp1V\\_and\\_ant\\_arc\\_V'\n",
       "\\item 'M\\_cell'\n",
       "\\item 'Rectal\\_cell'\n",
       "\\item 'ABarpaaa\\_lineage'\n",
       "\\item 'hmc'\n",
       "\\item 'Rectal\\_gland'\n",
       "\\item 'Excretory\\_duct\\_and\\_pore'\n",
       "\\item 'Excretory\\_gland'\n",
       "\\item 'Parent\\_of\\_hyp1V\\_and\\_ant\\_arc\\_V'\n",
       "\\item 'Arcade\\_cell'\n",
       "\\item 'XXX'\n",
       "\\item 'Germline'\n",
       "\\item 'T'\n",
       "\\end{enumerate*}\n"
      ],
      "text/markdown": [
       "1. 'Body_wall_muscle'\n",
       "2. 'Ciliated_amphid_neuron'\n",
       "3. 'Hypodermis'\n",
       "4. 'Ciliated_non_amphid_neuron'\n",
       "5. 'Seam_cell'\n",
       "6. 'Intestine'\n",
       "7. 'GLR'\n",
       "8. 'Z1_Z4'\n",
       "9. 'Pharyngeal_muscle'\n",
       "10. 'Pharyngeal_marginal_cell'\n",
       "11. 'Pharyngeal_gland'\n",
       "12. 'Intestinal_and_rectal_muscle'\n",
       "13. 'G2_and_W_blasts'\n",
       "14. 'Glia'\n",
       "15. 'hmc_and_homolog'\n",
       "16. 'Parent_of_exc_gland_AVK'\n",
       "17. 'Pharyngeal_intestinal_valve'\n",
       "18. 'Coelomocyte'\n",
       "19. 'hmc_homolog'\n",
       "20. 'Excretory_cell'\n",
       "21. 'Pharyngeal_neuron'\n",
       "22. 'hyp1V_and_ant_arc_V'\n",
       "23. 'M_cell'\n",
       "24. 'Rectal_cell'\n",
       "25. 'ABarpaaa_lineage'\n",
       "26. 'hmc'\n",
       "27. 'Rectal_gland'\n",
       "28. 'Excretory_duct_and_pore'\n",
       "29. 'Excretory_gland'\n",
       "30. 'Parent_of_hyp1V_and_ant_arc_V'\n",
       "31. 'Arcade_cell'\n",
       "32. 'XXX'\n",
       "33. 'Germline'\n",
       "34. 'T'\n",
       "\n",
       "\n"
      ],
      "text/plain": [
       " [1] \"Body_wall_muscle\"              \"Ciliated_amphid_neuron\"       \n",
       " [3] \"Hypodermis\"                    \"Ciliated_non_amphid_neuron\"   \n",
       " [5] \"Seam_cell\"                     \"Intestine\"                    \n",
       " [7] \"GLR\"                           \"Z1_Z4\"                        \n",
       " [9] \"Pharyngeal_muscle\"             \"Pharyngeal_marginal_cell\"     \n",
       "[11] \"Pharyngeal_gland\"              \"Intestinal_and_rectal_muscle\" \n",
       "[13] \"G2_and_W_blasts\"               \"Glia\"                         \n",
       "[15] \"hmc_and_homolog\"               \"Parent_of_exc_gland_AVK\"      \n",
       "[17] \"Pharyngeal_intestinal_valve\"   \"Coelomocyte\"                  \n",
       "[19] \"hmc_homolog\"                   \"Excretory_cell\"               \n",
       "[21] \"Pharyngeal_neuron\"             \"hyp1V_and_ant_arc_V\"          \n",
       "[23] \"M_cell\"                        \"Rectal_cell\"                  \n",
       "[25] \"ABarpaaa_lineage\"              \"hmc\"                          \n",
       "[27] \"Rectal_gland\"                  \"Excretory_duct_and_pore\"      \n",
       "[29] \"Excretory_gland\"               \"Parent_of_hyp1V_and_ant_arc_V\"\n",
       "[31] \"Arcade_cell\"                   \"XXX\"                          \n",
       "[33] \"Germline\"                      \"T\"                            "
      ]
     },
     "metadata": {},
     "output_type": "display_data"
    },
    {
     "data": {
      "text/html": [
       "34"
      ],
      "text/latex": [
       "34"
      ],
      "text/markdown": [
       "34"
      ],
      "text/plain": [
       "[1] 34"
      ]
     },
     "metadata": {},
     "output_type": "display_data"
    }
   ],
   "source": [
    "unique_cell_types <- unique(cell_type)[!is.na(unique(cell_type))]\n",
    "unique_cell_types\n",
    "length(unique_cell_types)"
   ]
  },
  {
   "cell_type": "markdown",
   "id": "1d9003bf",
   "metadata": {},
   "source": [
    "Create a list for cell indices"
   ]
  },
  {
   "cell_type": "code",
   "execution_count": 16,
   "id": "f5c42b93",
   "metadata": {},
   "outputs": [],
   "source": [
    "cell_indices <- list()\n",
    "# Extract the cell indices according to each of the cell type and put them in the list\n",
    "for (i in 1:length(unique_cell_types)){\n",
    "  cell_indices[[unique_cell_types[i]]] <- dimnames(sce_filtered[,which(cell_type==unique_cell_types[i])])[[2]]\n",
    "}"
   ]
  },
  {
   "cell_type": "markdown",
   "id": "3be0b0f3",
   "metadata": {},
   "source": [
    "We can retrieve the cell indices of a cell type  by either the index of the list, or the cell type such as 'Body_wall_muscle'"
   ]
  },
  {
   "cell_type": "code",
   "execution_count": 17,
   "id": "09f484f2",
   "metadata": {},
   "outputs": [
    {
     "data": {
      "text/html": [
       "<style>\n",
       ".list-inline {list-style: none; margin:0; padding: 0}\n",
       ".list-inline>li {display: inline-block}\n",
       ".list-inline>li:not(:last-child)::after {content: \"\\00b7\"; padding: 0 .5ex}\n",
       "</style>\n",
       "<ol class=list-inline><li>'AAACCTGAGACAATAC-300.1.1'</li><li>'AAACCTGGTTATGCGT-300.1.1'</li><li>'AAAGCAACATCTATGG-300.1.1'</li><li>'AACCGCGCACATGACT-300.1.1'</li><li>'AACTCCCAGGGTTTCT-300.1.1'</li></ol>\n"
      ],
      "text/latex": [
       "\\begin{enumerate*}\n",
       "\\item 'AAACCTGAGACAATAC-300.1.1'\n",
       "\\item 'AAACCTGGTTATGCGT-300.1.1'\n",
       "\\item 'AAAGCAACATCTATGG-300.1.1'\n",
       "\\item 'AACCGCGCACATGACT-300.1.1'\n",
       "\\item 'AACTCCCAGGGTTTCT-300.1.1'\n",
       "\\end{enumerate*}\n"
      ],
      "text/markdown": [
       "1. 'AAACCTGAGACAATAC-300.1.1'\n",
       "2. 'AAACCTGGTTATGCGT-300.1.1'\n",
       "3. 'AAAGCAACATCTATGG-300.1.1'\n",
       "4. 'AACCGCGCACATGACT-300.1.1'\n",
       "5. 'AACTCCCAGGGTTTCT-300.1.1'\n",
       "\n",
       "\n"
      ],
      "text/plain": [
       "[1] \"AAACCTGAGACAATAC-300.1.1\" \"AAACCTGGTTATGCGT-300.1.1\"\n",
       "[3] \"AAAGCAACATCTATGG-300.1.1\" \"AACCGCGCACATGACT-300.1.1\"\n",
       "[5] \"AACTCCCAGGGTTTCT-300.1.1\""
      ]
     },
     "metadata": {},
     "output_type": "display_data"
    },
    {
     "data": {
      "text/html": [
       "<style>\n",
       ".list-inline {list-style: none; margin:0; padding: 0}\n",
       ".list-inline>li {display: inline-block}\n",
       ".list-inline>li:not(:last-child)::after {content: \"\\00b7\"; padding: 0 .5ex}\n",
       "</style>\n",
       "<ol class=list-inline><li>'AAACCTGAGACAATAC-300.1.1'</li><li>'AAACCTGGTTATGCGT-300.1.1'</li><li>'AAAGCAACATCTATGG-300.1.1'</li><li>'AACCGCGCACATGACT-300.1.1'</li><li>'AACTCCCAGGGTTTCT-300.1.1'</li></ol>\n"
      ],
      "text/latex": [
       "\\begin{enumerate*}\n",
       "\\item 'AAACCTGAGACAATAC-300.1.1'\n",
       "\\item 'AAACCTGGTTATGCGT-300.1.1'\n",
       "\\item 'AAAGCAACATCTATGG-300.1.1'\n",
       "\\item 'AACCGCGCACATGACT-300.1.1'\n",
       "\\item 'AACTCCCAGGGTTTCT-300.1.1'\n",
       "\\end{enumerate*}\n"
      ],
      "text/markdown": [
       "1. 'AAACCTGAGACAATAC-300.1.1'\n",
       "2. 'AAACCTGGTTATGCGT-300.1.1'\n",
       "3. 'AAAGCAACATCTATGG-300.1.1'\n",
       "4. 'AACCGCGCACATGACT-300.1.1'\n",
       "5. 'AACTCCCAGGGTTTCT-300.1.1'\n",
       "\n",
       "\n"
      ],
      "text/plain": [
       "[1] \"AAACCTGAGACAATAC-300.1.1\" \"AAACCTGGTTATGCGT-300.1.1\"\n",
       "[3] \"AAAGCAACATCTATGG-300.1.1\" \"AACCGCGCACATGACT-300.1.1\"\n",
       "[5] \"AACTCCCAGGGTTTCT-300.1.1\""
      ]
     },
     "metadata": {},
     "output_type": "display_data"
    }
   ],
   "source": [
    "cell_indices[[1]][1:5]\n",
    "cell_indices[['Body_wall_muscle']][1:5]"
   ]
  },
  {
   "cell_type": "markdown",
   "id": "37bd340b",
   "metadata": {},
   "source": [
    "# BiomRT"
   ]
  },
  {
   "cell_type": "code",
   "execution_count": 18,
   "id": "fb4698d0",
   "metadata": {},
   "outputs": [],
   "source": [
    "# Use biomRT package to get access to WormBase ParaSite BioMart\n",
    "# Establish a connection to the WormBase ParaSite BioMart\n",
    "mart <- useMart(\"parasite_mart\", dataset = \"wbps_gene\", host = \"https://parasite.wormbase.org\", port = 443)"
   ]
  },
  {
   "cell_type": "code",
   "execution_count": 19,
   "id": "35ce1647",
   "metadata": {},
   "outputs": [],
   "source": [
    "# Retrieve the GO terms\n",
    "gene_info <- getBM(filters=\"wbps_gene_id\", \n",
    "  attributes=c(\"wbps_gene_id\", \"go_accession\",\"go_name_1006\", \"go_namespace_1003\"), \n",
    "  values=row.names(data_matrix), \n",
    "  mart=mart,\n",
    "  uniqueRows=FALSE)"
   ]
  },
  {
   "cell_type": "code",
   "execution_count": 20,
   "id": "6867bcba",
   "metadata": {},
   "outputs": [
    {
     "data": {
      "text/html": [
       "<style>\n",
       ".list-inline {list-style: none; margin:0; padding: 0}\n",
       ".list-inline>li {display: inline-block}\n",
       ".list-inline>li:not(:last-child)::after {content: \"\\00b7\"; padding: 0 .5ex}\n",
       "</style>\n",
       "<ol class=list-inline><li>207455</li><li>4</li></ol>\n"
      ],
      "text/latex": [
       "\\begin{enumerate*}\n",
       "\\item 207455\n",
       "\\item 4\n",
       "\\end{enumerate*}\n"
      ],
      "text/markdown": [
       "1. 207455\n",
       "2. 4\n",
       "\n",
       "\n"
      ],
      "text/plain": [
       "[1] 207455      4"
      ]
     },
     "metadata": {},
     "output_type": "display_data"
    }
   ],
   "source": [
    "dim(gene_info) "
   ]
  },
  {
   "cell_type": "code",
   "execution_count": 21,
   "id": "280c62e5",
   "metadata": {},
   "outputs": [
    {
     "data": {
      "text/html": [
       "<table class=\"dataframe\">\n",
       "<caption>A data.frame: 6 × 4</caption>\n",
       "<thead>\n",
       "\t<tr><th></th><th scope=col>wbps_gene_id</th><th scope=col>go_accession</th><th scope=col>go_name_1006</th><th scope=col>go_namespace_1003</th></tr>\n",
       "\t<tr><th></th><th scope=col>&lt;chr&gt;</th><th scope=col>&lt;chr&gt;</th><th scope=col>&lt;chr&gt;</th><th scope=col>&lt;chr&gt;</th></tr>\n",
       "</thead>\n",
       "<tbody>\n",
       "\t<tr><th scope=row>1</th><td>WBGene00000002</td><td>GO:0016021</td><td>integral component of membrane    </td><td>cellular_component</td></tr>\n",
       "\t<tr><th scope=row>2</th><td>WBGene00000002</td><td>GO:0016020</td><td>membrane                          </td><td>cellular_component</td></tr>\n",
       "\t<tr><th scope=row>3</th><td>WBGene00000002</td><td>GO:0022857</td><td>transmembrane transporter activity</td><td>molecular_function</td></tr>\n",
       "\t<tr><th scope=row>4</th><td>WBGene00000002</td><td>GO:0055085</td><td>transmembrane transport           </td><td>biological_process</td></tr>\n",
       "\t<tr><th scope=row>5</th><td>WBGene00000002</td><td>GO:0005886</td><td>plasma membrane                   </td><td>cellular_component</td></tr>\n",
       "\t<tr><th scope=row>6</th><td>WBGene00000002</td><td>GO:0015807</td><td>L-amino acid transport            </td><td>biological_process</td></tr>\n",
       "</tbody>\n",
       "</table>\n"
      ],
      "text/latex": [
       "A data.frame: 6 × 4\n",
       "\\begin{tabular}{r|llll}\n",
       "  & wbps\\_gene\\_id & go\\_accession & go\\_name\\_1006 & go\\_namespace\\_1003\\\\\n",
       "  & <chr> & <chr> & <chr> & <chr>\\\\\n",
       "\\hline\n",
       "\t1 & WBGene00000002 & GO:0016021 & integral component of membrane     & cellular\\_component\\\\\n",
       "\t2 & WBGene00000002 & GO:0016020 & membrane                           & cellular\\_component\\\\\n",
       "\t3 & WBGene00000002 & GO:0022857 & transmembrane transporter activity & molecular\\_function\\\\\n",
       "\t4 & WBGene00000002 & GO:0055085 & transmembrane transport            & biological\\_process\\\\\n",
       "\t5 & WBGene00000002 & GO:0005886 & plasma membrane                    & cellular\\_component\\\\\n",
       "\t6 & WBGene00000002 & GO:0015807 & L-amino acid transport             & biological\\_process\\\\\n",
       "\\end{tabular}\n"
      ],
      "text/markdown": [
       "\n",
       "A data.frame: 6 × 4\n",
       "\n",
       "| <!--/--> | wbps_gene_id &lt;chr&gt; | go_accession &lt;chr&gt; | go_name_1006 &lt;chr&gt; | go_namespace_1003 &lt;chr&gt; |\n",
       "|---|---|---|---|---|\n",
       "| 1 | WBGene00000002 | GO:0016021 | integral component of membrane     | cellular_component |\n",
       "| 2 | WBGene00000002 | GO:0016020 | membrane                           | cellular_component |\n",
       "| 3 | WBGene00000002 | GO:0022857 | transmembrane transporter activity | molecular_function |\n",
       "| 4 | WBGene00000002 | GO:0055085 | transmembrane transport            | biological_process |\n",
       "| 5 | WBGene00000002 | GO:0005886 | plasma membrane                    | cellular_component |\n",
       "| 6 | WBGene00000002 | GO:0015807 | L-amino acid transport             | biological_process |\n",
       "\n"
      ],
      "text/plain": [
       "  wbps_gene_id   go_accession go_name_1006                      \n",
       "1 WBGene00000002 GO:0016021   integral component of membrane    \n",
       "2 WBGene00000002 GO:0016020   membrane                          \n",
       "3 WBGene00000002 GO:0022857   transmembrane transporter activity\n",
       "4 WBGene00000002 GO:0055085   transmembrane transport           \n",
       "5 WBGene00000002 GO:0005886   plasma membrane                   \n",
       "6 WBGene00000002 GO:0015807   L-amino acid transport            \n",
       "  go_namespace_1003 \n",
       "1 cellular_component\n",
       "2 cellular_component\n",
       "3 molecular_function\n",
       "4 biological_process\n",
       "5 cellular_component\n",
       "6 biological_process"
      ]
     },
     "metadata": {},
     "output_type": "display_data"
    }
   ],
   "source": [
    "head(gene_info)"
   ]
  },
  {
   "cell_type": "markdown",
   "id": "935e1647",
   "metadata": {},
   "source": [
    "# Construction of Annotation Matrix"
   ]
  },
  {
   "cell_type": "markdown",
   "id": "6dcb1dfa",
   "metadata": {},
   "source": [
    "Construct an annotation matrix, where rows represent genes, columns go-names and the values are 1 when a go-term of that column is related to the gene of that row. This is needed for the iDEA analysis."
   ]
  },
  {
   "cell_type": "code",
   "execution_count": 22,
   "id": "ac05046f",
   "metadata": {},
   "outputs": [],
   "source": [
    "# go_names for which there is still a related gene in the filtered data set\n",
    "rel_gene_info = gene_info[which(gene_info$wbps_gene_id %in% rownames(sce_cpm)),]"
   ]
  },
  {
   "cell_type": "code",
   "execution_count": 23,
   "id": "a50b8a12",
   "metadata": {},
   "outputs": [],
   "source": [
    "# make an empty sparse matrix for which each row represents a gene, and each column represents a go_name\n",
    "# The nb of columns thus corresponds to the number of unique go_names that are connected to the genes after filtering.\n",
    "annotation = sparseMatrix(i=nrow(sce_cpm),\n",
    "                          j=length(unique(rel_gene_info$go_name_1006)),\n",
    "                          x=0\n",
    "                           )\n",
    "rownames(annotation)<-rownames(sce_cpm) # rows in annotation represent genes\n",
    "colnames(annotation)<-unique(rel_gene_info$go_name_1006) # columns in annotation represent go-terms"
   ]
  },
  {
   "cell_type": "code",
   "execution_count": 24,
   "id": "ec57bb8e",
   "metadata": {},
   "outputs": [
    {
     "name": "stdout",
     "output_type": "stream",
     "text": [
      "Time difference of 3.483985 mins\n"
     ]
    }
   ],
   "source": [
    "startTime = Sys.time()\n",
    "for (i in 1:nrow(rel_gene_info)){ # for each gene \n",
    "    # get the row in the annotation matrix that corresponds to that gene\n",
    "    gene_index = which(rownames(annotation) == rel_gene_info$wbps_gene_id[i]) \n",
    "    # get the column in the annotation matrix that corresponds to the go-name\n",
    "    go_name_index = which(colnames(annotation) == rel_gene_info$go_name_1006[i])\n",
    "    # set the relevant element in the annotation to 1\n",
    "    annotation[gene_index,go_name_index] = 1\n",
    "}\n",
    "endTime = Sys.time()\n",
    "print(endTime - startTime)"
   ]
  },
  {
   "cell_type": "markdown",
   "id": "5aa10552",
   "metadata": {},
   "source": [
    "```\n",
    "summary(rowSums(annotation)==0)\n",
    "summary(colSums(annotation)==0)\n",
    "\n",
    "   Mode   FALSE    TRUE \n",
    "logical   16957      83 \n",
    "   Mode   FALSE \n",
    "logical    6896 \n",
    "```"
   ]
  },
  {
   "cell_type": "code",
   "execution_count": 25,
   "id": "350d18f1",
   "metadata": {},
   "outputs": [],
   "source": [
    "annotation_matrix = as.matrix(annotation)\n",
    "annotation_df = as.data.frame(annotation_matrix)\n",
    "annotation = annotation_df"
   ]
  },
  {
   "cell_type": "markdown",
   "id": "6872229a",
   "metadata": {},
   "source": [
    "# Pair-wise comparison of groups of cell types, for all expressed genes\n",
    "\n",
    "We merge the cell types we're interested in to 4 major categories: muscle cells, neurons, glands, and hypodermis."
   ]
  },
  {
   "cell_type": "code",
   "execution_count": 3,
   "id": "b5b27c87",
   "metadata": {},
   "outputs": [
    {
     "data": {
      "text/html": [
       "<table class=\"dataframe\">\n",
       "<caption>A data.frame: 34 × 2</caption>\n",
       "<thead>\n",
       "\t<tr><th scope=col>1:length(unique_cell_types)</th><th scope=col>unique_cell_types</th></tr>\n",
       "\t<tr><th scope=col>&lt;int&gt;</th><th scope=col>&lt;chr&gt;</th></tr>\n",
       "</thead>\n",
       "<tbody>\n",
       "\t<tr><td> 1</td><td>Body_wall_muscle             </td></tr>\n",
       "\t<tr><td> 2</td><td>Ciliated_amphid_neuron       </td></tr>\n",
       "\t<tr><td> 3</td><td>Hypodermis                   </td></tr>\n",
       "\t<tr><td> 4</td><td>Ciliated_non_amphid_neuron   </td></tr>\n",
       "\t<tr><td> 5</td><td>Seam_cell                    </td></tr>\n",
       "\t<tr><td> 6</td><td>Intestine                    </td></tr>\n",
       "\t<tr><td> 7</td><td>GLR                          </td></tr>\n",
       "\t<tr><td> 8</td><td>Z1_Z4                        </td></tr>\n",
       "\t<tr><td> 9</td><td>Pharyngeal_muscle            </td></tr>\n",
       "\t<tr><td>10</td><td>Pharyngeal_marginal_cell     </td></tr>\n",
       "\t<tr><td>11</td><td>Pharyngeal_gland             </td></tr>\n",
       "\t<tr><td>12</td><td>Intestinal_and_rectal_muscle </td></tr>\n",
       "\t<tr><td>13</td><td>G2_and_W_blasts              </td></tr>\n",
       "\t<tr><td>14</td><td>Glia                         </td></tr>\n",
       "\t<tr><td>15</td><td>hmc_and_homolog              </td></tr>\n",
       "\t<tr><td>16</td><td>Parent_of_exc_gland_AVK      </td></tr>\n",
       "\t<tr><td>17</td><td>Pharyngeal_intestinal_valve  </td></tr>\n",
       "\t<tr><td>18</td><td>Coelomocyte                  </td></tr>\n",
       "\t<tr><td>19</td><td>hmc_homolog                  </td></tr>\n",
       "\t<tr><td>20</td><td>Excretory_cell               </td></tr>\n",
       "\t<tr><td>21</td><td>Pharyngeal_neuron            </td></tr>\n",
       "\t<tr><td>22</td><td>hyp1V_and_ant_arc_V          </td></tr>\n",
       "\t<tr><td>23</td><td>M_cell                       </td></tr>\n",
       "\t<tr><td>24</td><td>Rectal_cell                  </td></tr>\n",
       "\t<tr><td>25</td><td>ABarpaaa_lineage             </td></tr>\n",
       "\t<tr><td>26</td><td>hmc                          </td></tr>\n",
       "\t<tr><td>27</td><td>Rectal_gland                 </td></tr>\n",
       "\t<tr><td>28</td><td>Excretory_duct_and_pore      </td></tr>\n",
       "\t<tr><td>29</td><td>Excretory_gland              </td></tr>\n",
       "\t<tr><td>30</td><td>Parent_of_hyp1V_and_ant_arc_V</td></tr>\n",
       "\t<tr><td>31</td><td>Arcade_cell                  </td></tr>\n",
       "\t<tr><td>32</td><td>XXX                          </td></tr>\n",
       "\t<tr><td>33</td><td>Germline                     </td></tr>\n",
       "\t<tr><td>34</td><td>T                            </td></tr>\n",
       "</tbody>\n",
       "</table>\n"
      ],
      "text/latex": [
       "A data.frame: 34 × 2\n",
       "\\begin{tabular}{ll}\n",
       " 1:length(unique\\_cell\\_types) & unique\\_cell\\_types\\\\\n",
       " <int> & <chr>\\\\\n",
       "\\hline\n",
       "\t  1 & Body\\_wall\\_muscle             \\\\\n",
       "\t  2 & Ciliated\\_amphid\\_neuron       \\\\\n",
       "\t  3 & Hypodermis                   \\\\\n",
       "\t  4 & Ciliated\\_non\\_amphid\\_neuron   \\\\\n",
       "\t  5 & Seam\\_cell                    \\\\\n",
       "\t  6 & Intestine                    \\\\\n",
       "\t  7 & GLR                          \\\\\n",
       "\t  8 & Z1\\_Z4                        \\\\\n",
       "\t  9 & Pharyngeal\\_muscle            \\\\\n",
       "\t 10 & Pharyngeal\\_marginal\\_cell     \\\\\n",
       "\t 11 & Pharyngeal\\_gland             \\\\\n",
       "\t 12 & Intestinal\\_and\\_rectal\\_muscle \\\\\n",
       "\t 13 & G2\\_and\\_W\\_blasts              \\\\\n",
       "\t 14 & Glia                         \\\\\n",
       "\t 15 & hmc\\_and\\_homolog              \\\\\n",
       "\t 16 & Parent\\_of\\_exc\\_gland\\_AVK      \\\\\n",
       "\t 17 & Pharyngeal\\_intestinal\\_valve  \\\\\n",
       "\t 18 & Coelomocyte                  \\\\\n",
       "\t 19 & hmc\\_homolog                  \\\\\n",
       "\t 20 & Excretory\\_cell               \\\\\n",
       "\t 21 & Pharyngeal\\_neuron            \\\\\n",
       "\t 22 & hyp1V\\_and\\_ant\\_arc\\_V          \\\\\n",
       "\t 23 & M\\_cell                       \\\\\n",
       "\t 24 & Rectal\\_cell                  \\\\\n",
       "\t 25 & ABarpaaa\\_lineage             \\\\\n",
       "\t 26 & hmc                          \\\\\n",
       "\t 27 & Rectal\\_gland                 \\\\\n",
       "\t 28 & Excretory\\_duct\\_and\\_pore      \\\\\n",
       "\t 29 & Excretory\\_gland              \\\\\n",
       "\t 30 & Parent\\_of\\_hyp1V\\_and\\_ant\\_arc\\_V\\\\\n",
       "\t 31 & Arcade\\_cell                  \\\\\n",
       "\t 32 & XXX                          \\\\\n",
       "\t 33 & Germline                     \\\\\n",
       "\t 34 & T                            \\\\\n",
       "\\end{tabular}\n"
      ],
      "text/markdown": [
       "\n",
       "A data.frame: 34 × 2\n",
       "\n",
       "| 1:length(unique_cell_types) &lt;int&gt; | unique_cell_types &lt;chr&gt; |\n",
       "|---|---|\n",
       "|  1 | Body_wall_muscle              |\n",
       "|  2 | Ciliated_amphid_neuron        |\n",
       "|  3 | Hypodermis                    |\n",
       "|  4 | Ciliated_non_amphid_neuron    |\n",
       "|  5 | Seam_cell                     |\n",
       "|  6 | Intestine                     |\n",
       "|  7 | GLR                           |\n",
       "|  8 | Z1_Z4                         |\n",
       "|  9 | Pharyngeal_muscle             |\n",
       "| 10 | Pharyngeal_marginal_cell      |\n",
       "| 11 | Pharyngeal_gland              |\n",
       "| 12 | Intestinal_and_rectal_muscle  |\n",
       "| 13 | G2_and_W_blasts               |\n",
       "| 14 | Glia                          |\n",
       "| 15 | hmc_and_homolog               |\n",
       "| 16 | Parent_of_exc_gland_AVK       |\n",
       "| 17 | Pharyngeal_intestinal_valve   |\n",
       "| 18 | Coelomocyte                   |\n",
       "| 19 | hmc_homolog                   |\n",
       "| 20 | Excretory_cell                |\n",
       "| 21 | Pharyngeal_neuron             |\n",
       "| 22 | hyp1V_and_ant_arc_V           |\n",
       "| 23 | M_cell                        |\n",
       "| 24 | Rectal_cell                   |\n",
       "| 25 | ABarpaaa_lineage              |\n",
       "| 26 | hmc                           |\n",
       "| 27 | Rectal_gland                  |\n",
       "| 28 | Excretory_duct_and_pore       |\n",
       "| 29 | Excretory_gland               |\n",
       "| 30 | Parent_of_hyp1V_and_ant_arc_V |\n",
       "| 31 | Arcade_cell                   |\n",
       "| 32 | XXX                           |\n",
       "| 33 | Germline                      |\n",
       "| 34 | T                             |\n",
       "\n"
      ],
      "text/plain": [
       "   1:length(unique_cell_types) unique_cell_types            \n",
       "1   1                          Body_wall_muscle             \n",
       "2   2                          Ciliated_amphid_neuron       \n",
       "3   3                          Hypodermis                   \n",
       "4   4                          Ciliated_non_amphid_neuron   \n",
       "5   5                          Seam_cell                    \n",
       "6   6                          Intestine                    \n",
       "7   7                          GLR                          \n",
       "8   8                          Z1_Z4                        \n",
       "9   9                          Pharyngeal_muscle            \n",
       "10 10                          Pharyngeal_marginal_cell     \n",
       "11 11                          Pharyngeal_gland             \n",
       "12 12                          Intestinal_and_rectal_muscle \n",
       "13 13                          G2_and_W_blasts              \n",
       "14 14                          Glia                         \n",
       "15 15                          hmc_and_homolog              \n",
       "16 16                          Parent_of_exc_gland_AVK      \n",
       "17 17                          Pharyngeal_intestinal_valve  \n",
       "18 18                          Coelomocyte                  \n",
       "19 19                          hmc_homolog                  \n",
       "20 20                          Excretory_cell               \n",
       "21 21                          Pharyngeal_neuron            \n",
       "22 22                          hyp1V_and_ant_arc_V          \n",
       "23 23                          M_cell                       \n",
       "24 24                          Rectal_cell                  \n",
       "25 25                          ABarpaaa_lineage             \n",
       "26 26                          hmc                          \n",
       "27 27                          Rectal_gland                 \n",
       "28 28                          Excretory_duct_and_pore      \n",
       "29 29                          Excretory_gland              \n",
       "30 30                          Parent_of_hyp1V_and_ant_arc_V\n",
       "31 31                          Arcade_cell                  \n",
       "32 32                          XXX                          \n",
       "33 33                          Germline                     \n",
       "34 34                          T                            "
      ]
     },
     "metadata": {},
     "output_type": "display_data"
    }
   ],
   "source": [
    "cbind(1:length(unique_cell_types), as.data.frame(unique_cell_types))"
   ]
  },
  {
   "cell_type": "code",
   "execution_count": 4,
   "id": "4763e443",
   "metadata": {},
   "outputs": [],
   "source": [
    "#select the cell types of interest\n",
    "muscle_cell_types = unique_cell_types[c(1,9,12)]\n",
    "neuron_cell_types = unique_cell_types[c(2,4,21)]\n",
    "gland_cell_types = unique_cell_types[c(11,16,27,29)]\n",
    "hyp_cell_types = unique_cell_types[c(3)]\n",
    "\n",
    "#make vector of group names: useful for later for-loops\n",
    "cell_groups_of_interest = c(\"muscle_cells\", \"neuron_cells\", \"gland_cells\", \"hyp_cells\")\n",
    "#make list with each element the cell types belonging to a respective group\n",
    "grouped_cell_types = list(muscle_cell_types, neuron_cell_types, gland_cell_types, hyp_cell_types)\n",
    "\n",
    "#create empty list, of which the elements will eventually hold all cell identifiers belonging to a by us defined group\n",
    "# (those groups have group names as in cell_groups_of_interest). This list can be used to retrieve all cells \n",
    "# belonging to a group\n",
    "cell_indices4groups = list(NULL, NULL, NULL, NULL)\n",
    "names(cell_indices4groups) = cell_groups_of_interest\n",
    "\n",
    "#for-loop to give cell identifiers belonging to a by us defined group. \n",
    "for (j in 1:length(cell_groups_of_interest)){\n",
    "    for (i in 1:length(grouped_cell_types[[j]])){\n",
    "        cell_indices4groups[[j]] = append(cell_indices4groups[[j]], cell_indices[[grouped_cell_types[[j]][i]]])\n",
    "    }\n",
    "}"
   ]
  },
  {
   "cell_type": "markdown",
   "id": "55585e50",
   "metadata": {},
   "source": [
    "Now, we do the analysis for all genes and these groups of cells."
   ]
  },
  {
   "cell_type": "code",
   "execution_count": 5,
   "id": "f850db03",
   "metadata": {},
   "outputs": [],
   "source": [
    "# define a dataframe holding all combinations of 1:4. Will be used to compare corresponding groups of cell types\n",
    "combinations4groups = data.frame()\n",
    "for (i in 1:(length(cell_indices4groups)-1)){\n",
    "    for (j in (i+1):length(cell_indices4groups)){\n",
    "        row = c(i,j)\n",
    "        combinations4groups = rbind(combinations4groups, row)\n",
    "    }\n",
    "}"
   ]
  },
  {
   "cell_type": "code",
   "execution_count": null,
   "id": "d752dc6c",
   "metadata": {
    "scrolled": false
   },
   "outputs": [
    {
     "name": "stdout",
     "output_type": "stream",
     "text": [
      "[1] 2\n"
     ]
    },
    {
     "name": "stderr",
     "output_type": "stream",
     "text": [
      "`fData` has no primerid.  I'll make something up.\n",
      "\n",
      "`cData` has no wellKey.  I'll make something up.\n",
      "\n",
      "\n",
      "Done!\n",
      "\n"
     ]
    },
    {
     "name": "stdout",
     "output_type": "stream",
     "text": [
      "## ===== iDEA INPUT SUMMARY ==== ##\n",
      "## number of annotations:  372 \n",
      "## number of genes:  9370 \n",
      "## number of cores:  10 \n",
      "## fitting the model with gene sets information... \n",
      "Time difference of 3.315943 hours\n",
      "[1] 3\n"
     ]
    },
    {
     "name": "stderr",
     "output_type": "stream",
     "text": [
      "`fData` has no primerid.  I'll make something up.\n",
      "\n",
      "`cData` has no wellKey.  I'll make something up.\n",
      "\n",
      "\n",
      "Done!\n",
      "\n"
     ]
    },
    {
     "name": "stdout",
     "output_type": "stream",
     "text": [
      "## ===== iDEA INPUT SUMMARY ==== ##\n",
      "## number of annotations:  336 \n",
      "## number of genes:  12190 \n",
      "## number of cores:  10 \n",
      "## fitting the model with gene sets information... \n",
      "Time difference of 3.877662 hours\n",
      "[1] 4\n"
     ]
    },
    {
     "name": "stderr",
     "output_type": "stream",
     "text": [
      "`fData` has no primerid.  I'll make something up.\n",
      "\n",
      "`cData` has no wellKey.  I'll make something up.\n",
      "\n",
      "\n",
      "Done!\n",
      "\n"
     ]
    }
   ],
   "source": [
    "# Create a list for log fold change + p-value from BPSC results and for iDEA results\n",
    "results4groups <- list()\n",
    "list_of_idea4groups = list()\n",
    "\n",
    "options(mc.cores = 1) # to fix an error. Has to do with, problems in parallelization in idea\n",
    "\n",
    "for (i in 2:4){\n",
    "    print(i)\n",
    "    startTime = Sys.time()\n",
    "    #Define the two groups to be compared (Remember of remove 1:20 when we run it for the whole data containing all the cells in a time bin!!!)\n",
    "    control.mat=sce_cpm[,cell_indices4groups[[combinations4groups[i,1]]]]\n",
    "    treated.mat=sce_cpm[,cell_indices4groups[[combinations4groups[i,2]]]]\n",
    "    #Create a data set by merging the control group and the treated group\n",
    "    bp.mat=cbind(control.mat,treated.mat)\n",
    "    rownames(bp.mat)=c(1:nrow(bp.mat))\n",
    "    colnames(bp.mat)=c(1:ncol(bp.mat))\n",
    "    group=c(rep(1,ncol(control.mat)),rep(2,ncol(treated.mat)))\n",
    "\n",
    "    #Run BPglm for differential expression analysis\n",
    "    res=BPglm(data=bp.mat, controlIds=which(lapply(group, as.numeric)==1), design=model.matrix(~group), coef=2, estIntPar=FALSE, useParallel=FALSE)\n",
    "    \n",
    "    # Use MAST to compute logFC based on the raw counts\n",
    "    control.countData=sce_filtered[,cell_indices4groups[[combinations4groups[i,1]]]]\n",
    "    treated.countData=sce_filtered[,cell_indices4groups[[combinations4groups[i,2]]]]\n",
    "    countData <- cbind(control.countData,treated.countData)\n",
    "    cellType <- as.data.frame(rep(c(1,2), c(ncol(control.countData),ncol(treated.countData))))\n",
    "    colnames(cellType) <- \"CellType\"\n",
    "    colData(countData) <- cbind(colData(countData),cellType)\n",
    "    colData(countData)$CellType<-factor(colData(countData)$CellType)\n",
    "    countData<-SceToSingleCellAssay(countData, class = \"SingleCellAssay\",check_sanity = FALSE)\n",
    "    zlmCond <- zlm(~CellType, countData)\n",
    "    logFC<-getLogFC(zlmCond)[,c(1,3)]\n",
    "\n",
    "    # Log fold change + p-value from BPSC\n",
    "    PVAL<-as.data.frame(res$PVAL)\n",
    "    result <- cbind(logFC,res$PVAL)\n",
    "    colnames(result) <- c('gene','logFC','P-value')\n",
    "    results4groups[[paste(cell_groups_of_interest[combinations4groups[i,1]],\n",
    "                        cell_groups_of_interest[combinations4groups[i,2]], sep=\" vs. \")]] = result\n",
    "\n",
    "    #calculate variance\n",
    "    #Here the first results(only two cell types) is used!!\n",
    "    pvalue <- result$`P-value` #### the pvalue column\n",
    "    zscore <- qnorm(pvalue/2.0, lower.tail=FALSE) #### convert the pvalue to z-score\n",
    "    fc <- result$logFC ## the fold change column\n",
    "    se_beta <- abs(fc/zscore) ## to approximate the standard error of beta\n",
    "    var = se_beta^2  ### square \n",
    "    summary = data.frame(fc = fc,variance = var,row.names = result$gene)# Summary is a matrix of fold change and variance of each gene\n",
    "\n",
    "    #create idea object\n",
    "    idea<-CreateiDEAObject(summary,annotation[,])\n",
    "    #Fit the model\n",
    "    idea <- iDEA.fit(idea)\n",
    "    #correct p-values\n",
    "    idea <- iDEA.louis(idea)\n",
    "    #without pre-selected genes\n",
    "    idea <- iDEA.BMA(idea)\n",
    "\n",
    "    #Save idea to list, so we can do analysis later\n",
    "    list_of_idea4groups <- cbind(list_of_idea4groups,idea)\n",
    "\n",
    "    save(idea, file=paste0(\"bin330_idea_groups_comp\",i,\".RData\"))\n",
    "    save(result, file=paste0(\"bin330_result_groups_comp\",i,\".RData\"))\n",
    "    \n",
    "    stopTime = Sys.time()\n",
    "    print(stopTime-startTime)\n",
    "} "
   ]
  },
  {
   "cell_type": "markdown",
   "id": "d1f46e5a",
   "metadata": {},
   "source": [
    "# Visualization\n",
    "## Bubble Plots"
   ]
  },
  {
   "cell_type": "markdown",
   "id": "69ddd4fd",
   "metadata": {},
   "source": [
    "The following function can be used to make bubble plots for iDEA objects."
   ]
  },
  {
   "cell_type": "code",
   "execution_count": 6,
   "id": "35f9f1ee",
   "metadata": {
    "scrolled": true
   },
   "outputs": [],
   "source": [
    "# This function makes a bubble plot with info in an iDEA-object.\n",
    "CreateBubblePlot = function(idea_obj){\n",
    "    # calculate the number of genes that are associated with the go-terms found in the gsea\n",
    "    df_colSums = as.data.frame(colSums(annotation[,colnames(annotation) %in% idea_obj@gsea[,1]]))\n",
    "    # also save their p-value\n",
    "    df_pval = as.data.frame(-log(idea_obj@gsea$pvalue, base = 10))\n",
    "    # give rows the name of the corresponding go-term\n",
    "    rownames(df_pval) = idea_obj@gsea$annot_id\n",
    "    # make a preliminary dataframe with the go-terms, the nb of genes associated, and the p-values\n",
    "    data = cbind(rownames(df_pval), df_colSums)\n",
    "    data = cbind(data, df_pval)\n",
    "\n",
    "    # determine the domain of the go terms\n",
    "    ## Initiation of for loop: create empty dataframe that will hold all the go-domains\n",
    "    df_domains = data.frame()\n",
    "    ## loop over each row in data\n",
    "    for (i in 1:nrow(data)){\n",
    "        ## determine the go-term of that row\n",
    "        go_term = rownames(data[i,])\n",
    "        ## determine the go-domain of that go-term\n",
    "        go_domain = unique(gene_info$go_namespace_1003[gene_info$go_name_1006==go_term])\n",
    "        ## some go-terms don't belong to a domain. To prevent they are skipped, assign \"other\" to the domain\n",
    "        if (length(go_domain) == 0) go_domain = \"other\"\n",
    "        ## add a row with the domain to the domain dataframe\n",
    "        df_domains = rbind(df_domains,go_domain)\n",
    "    }\n",
    "\n",
    "    # add the domain dataframe as a new column to the data\n",
    "    data = cbind(data,df_domains)\n",
    "    # assign colnames to the data\n",
    "    colnames(data) = c(\"go_term\", \"genes_in_go\", \"log_p\", \"go_domain\")\n",
    "    \n",
    "    categoryLevels = c(\"biological_process\", \"cellular_component\", \"molecular_function\")\n",
    "    data = data[order(match(data$go_domain, categoryLevels)), ]\n",
    "    data = cbind(data, order(match(data$go_domain, categoryLevels)))\n",
    "    colnames(data) = c(\"go_term\", \"genes_in_go\", \"log_p\", \"go_domain\", \"order\")\n",
    "    \n",
    "    plot = ggplot(data, aes(x=order, y=log_p, size = genes_in_go, color = go_domain)) +\n",
    "            geom_point(alpha=0.7) +\n",
    "            geom_hline(yintercept = -log(0.05, base=10)) + \n",
    "            scale_x_continuous(name = \"\", breaks = c()) + \n",
    "            labs(title=paste(paste(\"bin330: \", cell_groups_of_interest[combinations4groups[i,1]]), \n",
    "                             paste(\" vs \", cell_groups_of_interest[combinations4groups[i,2]]))) +\n",
    "            geom_text_repel(aes(label=ifelse(log_p>15 & log_p<100,go_term,'')),size = 12/.pt,force=5)\n",
    "    \n",
    "    return (plot)\n",
    "}"
   ]
  },
  {
   "cell_type": "markdown",
   "id": "86e84091",
   "metadata": {},
   "source": [
    "This can be used to create bubble plots"
   ]
  },
  {
   "cell_type": "code",
   "execution_count": 9,
   "id": "a6f77b14",
   "metadata": {},
   "outputs": [],
   "source": [
    "plots = list()\n",
    "for (i in length(list_of_idea4groups)) plots[[i]] = CreateBubblePlot(list_of_idea4groups[[i]])"
   ]
  },
  {
   "cell_type": "code",
   "execution_count": 10,
   "id": "f03efd01",
   "metadata": {},
   "outputs": [
    {
     "data": {
      "text/plain": [
       "[[1]]\n"
      ]
     },
     "metadata": {},
     "output_type": "display_data"
    },
    {
     "data": {
      "image/png": "[encoded data removed]",
      "text/plain": [
       "plot without title"
      ]
     },
     "metadata": {
      "image/png": {
       "height": 420,
       "width": 420
      }
     },
     "output_type": "display_data"
    }
   ],
   "source": [
    "plots"
   ]
  },
  {
   "cell_type": "code",
   "execution_count": null,
   "id": "bccf6089",
   "metadata": {},
   "outputs": [],
   "source": [
    "save(plots, file=\"bin330_idea_groups_BubblePlots\")"
   ]
  },
  {
   "cell_type": "code",
   "execution_count": null,
   "id": "603b5194",
   "metadata": {},
   "outputs": [],
   "source": [
    "save.image(\"workspace_bin330.RData\",compress=TRUE)"
   ]
  }
 ],
 "metadata": {
  "kernelspec": {
   "display_name": "r41env",
   "language": "R",
   "name": "r41env"
  },
  "language_info": {
   "codemirror_mode": "r",
   "file_extension": ".r",
   "mimetype": "text/x-r-source",
   "name": "R",
   "pygments_lexer": "r",
   "version": "4.1.1"
  }
 },
 "nbformat": 4,
 "nbformat_minor": 5
}
