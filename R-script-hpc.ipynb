{
 "cells": [
  {
   "cell_type": "markdown",
   "id": "48e92e82",
   "metadata": {},
   "source": [
    " # Load the relevant packages"
   ]
  },
  {
   "cell_type": "code",
   "execution_count": null,
   "id": "d642a2b9",
   "metadata": {
    "scrolled": true
   },
   "outputs": [],
   "source": [
    "library(\"BPSC\")\n",
    "library(\"SingleCellExperiment\")\n",
    "library(\"scater\")\n",
    "library(\"biomaRt\")\n",
    "library(\"Matrix\")\n",
    "library('scuttle')\n",
    "library(\"pheatmap\")\n",
    "library(\"MAST\")\n",
    "library(\"iDEA\")"
   ]
  },
  {
   "cell_type": "markdown",
   "id": "c248cf6a",
   "metadata": {},
   "source": [
    "# Load workspace, so that all relevant info is loaded at once"
   ]
  },
  {
   "cell_type": "code",
   "execution_count": null,
   "id": "8f58958d",
   "metadata": {},
   "outputs": [],
   "source": [
    "load(\"workspace.RData\")"
   ]
  },
  {
   "cell_type": "markdown",
   "id": "e9c5292a",
   "metadata": {},
   "source": [
    "Has the following data:\n",
    "- loaded the data\n",
    "- cleaning and quality control\n",
    "- normalization\n",
    "- cell type info\n",
    "- biomRt\n",
    "- Generalization: combinations, annotation as df, genes of interest\n",
    "- result of iDEA for-loop run on 90 comparisons. \n",
    "\n",
    "So, from here you can jump to visualization"
   ]
  },
  {
   "cell_type": "markdown",
   "id": "10b08fc1",
   "metadata": {},
   "source": [
    "# Load the data: start with count matrix, then gene and cell annotation data."
   ]
  },
  {
   "cell_type": "code",
   "execution_count": null,
   "id": "3f441627",
   "metadata": {},
   "outputs": [],
   "source": [
    "gene_by_cell_count_matrix <- read.csv(\"GSE126954_gene_by_cell_count_matrix.txt\", sep = \"\")[,1:3]"
   ]
  },
  {
   "cell_type": "code",
   "execution_count": null,
   "id": "9a6604c3",
   "metadata": {},
   "outputs": [],
   "source": [
    "gene_annotation <- read.csv(\"GSE126954_gene_annotation.csv\")[,2:3]\n",
    "cell_annotation <- read.csv(\"GSE126954_cell_annotation.csv\")[,-1]"
   ]
  },
  {
   "cell_type": "markdown",
   "id": "e3bad9ac",
   "metadata": {},
   "source": [
    "Generate a sparse matrix from the counts matrix. Rows represent a gene, columns represent a cell."
   ]
  },
  {
   "cell_type": "code",
   "execution_count": null,
   "id": "83b38d31",
   "metadata": {},
   "outputs": [],
   "source": [
    "data_matrix = sparseMatrix(i=gene_by_cell_count_matrix$X..MatrixMarket,\n",
    "                          j=gene_by_cell_count_matrix$matrix,\n",
    "                          x=gene_by_cell_count_matrix$coordinate\n",
    "                           )\n",
    "rownames(data_matrix)=gene_annotation[,1]\n",
    "colnames(data_matrix)=cell_annotation[,1]"
   ]
  },
  {
   "cell_type": "code",
   "execution_count": null,
   "id": "330252b9",
   "metadata": {},
   "outputs": [],
   "source": [
    "head(data_matrix)\n",
    "dim(data_matrix)"
   ]
  },
  {
   "cell_type": "markdown",
   "id": "e85b87d5",
   "metadata": {},
   "source": [
    "Select one time bin."
   ]
  },
  {
   "cell_type": "code",
   "execution_count": null,
   "id": "92e1a5fe",
   "metadata": {},
   "outputs": [],
   "source": [
    "cells_bin = cell_annotation[cell_annotation$raw.embryo.time.bin==\"330-390\",]\n",
    "data_matrix = data_matrix[,as.numeric(unlist(rownames(cells_bin)))]"
   ]
  },
  {
   "cell_type": "markdown",
   "id": "2a8262ca",
   "metadata": {},
   "source": [
    "Create SingleCellExperiment objects"
   ]
  },
  {
   "cell_type": "code",
   "execution_count": null,
   "id": "25d32cb8",
   "metadata": {},
   "outputs": [],
   "source": [
    "sce <- SingleCellExperiment(\n",
    "  assays = list(counts = data_matrix),\n",
    "  rowData = data.frame(gene_names = rownames(data_matrix)),\n",
    "  colData = data.frame(cell_names = colnames(data_matrix))\n",
    ")"
   ]
  },
  {
   "cell_type": "markdown",
   "id": "d74e43a4",
   "metadata": {},
   "source": [
    "# Cleaning & QC"
   ]
  },
  {
   "cell_type": "markdown",
   "id": "b1ef0b9e",
   "metadata": {},
   "source": [
    "Use this object to clean the dataset by removing genes that are not expressed in any cell"
   ]
  },
  {
   "cell_type": "code",
   "execution_count": null,
   "id": "29f5a43a",
   "metadata": {},
   "outputs": [],
   "source": [
    "## Remove genes that are not expressed in any cell\n",
    "keep_feature <- rowSums(counts(sce) > 0) > 0\n",
    "sce_filtered <- SingleCellExperiment(\n",
    "  assays = list(counts = counts(sce)[keep_feature, ]),\n",
    "  rowData = data.frame(gene_names = rowData(sce)[keep_feature,]),\n",
    "  colData = data.frame(cell_names = colData(sce))\n",
    ")"
   ]
  },
  {
   "cell_type": "markdown",
   "id": "01b8e4d1",
   "metadata": {},
   "source": [
    "Do some quality control"
   ]
  },
  {
   "cell_type": "code",
   "execution_count": null,
   "id": "84bcfa28",
   "metadata": {},
   "outputs": [],
   "source": [
    "sce_filtered <- addPerCellQC(sce_filtered)\n",
    "sce_filtered <- addPerFeatureQC(sce_filtered)\n",
    "hist(sce_filtered$total, breaks = 100) #hist of counts per cell"
   ]
  },
  {
   "cell_type": "code",
   "execution_count": null,
   "id": "27e760d1",
   "metadata": {},
   "outputs": [],
   "source": [
    "unique_genes_per_cell <- colSums(counts(sce)>0)\n",
    "hist(unique_genes_per_cell,breaks=100) #hist of unique genes per cell"
   ]
  },
  {
   "cell_type": "markdown",
   "id": "51186caf",
   "metadata": {},
   "source": [
    "If needed, these histograms can be used to determine thresholds for further filtering. "
   ]
  },
  {
   "cell_type": "markdown",
   "id": "67df0ee8",
   "metadata": {},
   "source": [
    "# Normalize the counts using CPM"
   ]
  },
  {
   "cell_type": "code",
   "execution_count": null,
   "id": "d9d7b4ad",
   "metadata": {},
   "outputs": [],
   "source": [
    "cpm(sce_filtered) <- calculateCPM(sce_filtered) # using scater package\n",
    "sce_filtered <- logNormCounts(sce_filtered,transform=\"log\") \n",
    "# this logNormCounts function comes from scuttle package. Do not change sce_filtered into logcounts(sce_filtered) although that seems more logical.\n",
    "# The CPM and log counts are now stored in this sce_filtered SCE object\n",
    "# str(sce_filtered) shows the hierarchical structure of this SCE object"
   ]
  },
  {
   "cell_type": "code",
   "execution_count": null,
   "id": "2944f21c",
   "metadata": {},
   "outputs": [],
   "source": [
    "# Sparse matrices for further analysis\n",
    "sce_cpm <- cpm(sce_filtered) # CPM for BPSC input\n",
    "sce_log <- sce_filtered@assays@data@listData$logcounts # log transformed counts for heatmap input"
   ]
  },
  {
   "cell_type": "markdown",
   "id": "ef32440f",
   "metadata": {},
   "source": [
    "# Cell Type Info"
   ]
  },
  {
   "cell_type": "markdown",
   "id": "2807d7bd",
   "metadata": {},
   "source": [
    "Generate the column indices of the gene expression matrix corresponding to each cell type.\n",
    "First, generate the cell types included in the matrix being analyzed and make them correspond to the cell names (column names of the matrix)cell_annotation[,6] contains the cell types we need. We use them to split the data into groups containing gene expression of different cell types. dimnames(sce_cpm)[[2]] contains the column names of the sparse matrix."
   ]
  },
  {
   "cell_type": "code",
   "execution_count": null,
   "id": "624dba4d",
   "metadata": {},
   "outputs": [],
   "source": [
    "cell_type <- cell_annotation[cell_annotation$cell %in% dimnames(sce_cpm)[[2]],6] "
   ]
  },
  {
   "cell_type": "markdown",
   "id": "ee2b2130",
   "metadata": {},
   "source": [
    "Unique values in the vector cell_type that is not NA. We do not want to take the type-unidentified (na) cells into the differential expression analysis."
   ]
  },
  {
   "cell_type": "code",
   "execution_count": null,
   "id": "8d992a35",
   "metadata": {},
   "outputs": [],
   "source": [
    "unique_cell_types <- unique(cell_type)[!is.na(unique(cell_type))]\n",
    "unique_cell_types\n",
    "length(unique_cell_types)"
   ]
  },
  {
   "cell_type": "markdown",
   "id": "1d9003bf",
   "metadata": {},
   "source": [
    "Create a list for cell indices"
   ]
  },
  {
   "cell_type": "code",
   "execution_count": null,
   "id": "f5c42b93",
   "metadata": {},
   "outputs": [],
   "source": [
    "cell_indices <- list()\n",
    "# Extract the cell indices according to each of the cell type and put them in the list\n",
    "for (i in 1:length(unique_cell_types)){\n",
    "  cell_indices[[unique_cell_types[i]]] <- dimnames(sce_filtered[,which(cell_type==unique_cell_types[i])])[[2]]\n",
    "}"
   ]
  },
  {
   "cell_type": "markdown",
   "id": "3be0b0f3",
   "metadata": {},
   "source": [
    "We can retrieve the cell indices of a cell type  by either the index of the list, or the cell type such as 'Body_wall_muscle'"
   ]
  },
  {
   "cell_type": "code",
   "execution_count": null,
   "id": "09f484f2",
   "metadata": {},
   "outputs": [],
   "source": [
    "cell_indices[[1]][1:5]\n",
    "cell_indices[['Body_wall_muscle']][1:5]"
   ]
  },
  {
   "cell_type": "markdown",
   "id": "b845e43b",
   "metadata": {},
   "source": [
    "# Heatmap \n",
    "preparation for the heatmap."
   ]
  },
  {
   "cell_type": "code",
   "execution_count": null,
   "id": "3e1ae1b3",
   "metadata": {},
   "outputs": [],
   "source": [
    "matList <- list()\n",
    "cellTypeList <- list()"
   ]
  },
  {
   "cell_type": "code",
   "execution_count": null,
   "id": "9b955e43",
   "metadata": {},
   "outputs": [],
   "source": [
    "for (i in 1:length(unique_cell_types)){\n",
    "  mat <- sce_log[1:20,(cell_indices[[i]])] #input:logcounts\n",
    "  matList[[i]] <- mat\n",
    "  if(is.null(ncol(mat))){\n",
    "    cellTypeList[[i]] <- unique_cell_types[i]\n",
    "  } else {\n",
    "    cellTypeList[[i]]<-rep(unique_cell_types[i],ncol(mat)) \n",
    "  }\n",
    "}"
   ]
  },
  {
   "cell_type": "code",
   "execution_count": null,
   "id": "45eacfdd",
   "metadata": {},
   "outputs": [],
   "source": [
    "mat.whole <- do.call(cbind,matList)\n",
    "cellType <- do.call(c,cellTypeList)\n",
    "cellType <- data.frame(cellType)\n",
    "dim(mat.whole)[2] == nrow(cellType)\n",
    "colnames(cellType) <- \"Cell type\"\n",
    "mat.whole <- data.frame(as.matrix(mat.whole))\n",
    "rownames(cellType) <- colnames(mat.whole)"
   ]
  },
  {
   "cell_type": "markdown",
   "id": "53de38cd",
   "metadata": {},
   "source": [
    "Show heatmap"
   ]
  },
  {
   "cell_type": "code",
   "execution_count": null,
   "id": "7f960db5",
   "metadata": {},
   "outputs": [],
   "source": [
    "pheatmap(mat.whole,annotation=cellType,cluster_cols=FALSE)"
   ]
  },
  {
   "cell_type": "markdown",
   "id": "e2ccdd17",
   "metadata": {},
   "source": [
    "# MAST\n",
    "Use MAST to compute logFC based on the raw counts"
   ]
  },
  {
   "cell_type": "code",
   "execution_count": null,
   "id": "009c5aaa",
   "metadata": {},
   "outputs": [],
   "source": [
    "control.countData=sce_filtered[1:20,cell_indices[[1]]]\n",
    "treated.countData=sce_filtered[1:20,cell_indices[[2]]]\n",
    "countData <- cbind(control.countData,treated.countData)\n",
    "cellType <- rep(c(1,2), c(ncol(control.countData),ncol(treated.countData)))\n",
    "cellType <- as.data.frame(cellType)\n",
    "colnames(cellType) <- \"CellType\"\n",
    "colData(countData) <- cbind(colData(countData),cellType)\n",
    "head(colData(countData),3)"
   ]
  },
  {
   "cell_type": "code",
   "execution_count": null,
   "id": "7cb28ba3",
   "metadata": {},
   "outputs": [],
   "source": [
    "colData(countData)$CellType<-factor(colData(countData)$CellType)\n",
    "countData<-SceToSingleCellAssay(countData, class = \"SingleCellAssay\",check_sanity = FALSE) #uses MAST package\n",
    "zlmCond <- zlm(~CellType, countData)\n",
    "logFC<-getLogFC(zlmCond)[,c(1,3)]"
   ]
  },
  {
   "cell_type": "markdown",
   "id": "7d42a167",
   "metadata": {},
   "source": [
    "# Differential expression analysis using BPSC \n",
    "(Here we take only the first 20 genes to run a quick small test because BPSC takes a bit long time to run)\n",
    "\n",
    "A test to compare the gene expression of only the first two cell types: \"Body_wall_muscle\" and \"Ciliated_amphid_neuron\"\n",
    "\n",
    "Define the two groups to be compared:"
   ]
  },
  {
   "cell_type": "code",
   "execution_count": null,
   "id": "a8d82fbe",
   "metadata": {},
   "outputs": [],
   "source": [
    "control.mat=sce_cpm[1:20,cell_indices[[1]]]\n",
    "treated.mat=sce_cpm[1:20,cell_indices[[2]]]"
   ]
  },
  {
   "cell_type": "code",
   "execution_count": null,
   "id": "958e18f0",
   "metadata": {},
   "outputs": [],
   "source": [
    "#Create a data set by merging the control group and the treated group\n",
    "bp.mat=cbind(control.mat,treated.mat)\n",
    "rownames(bp.mat)=c(1:nrow(bp.mat))\n",
    "colnames(bp.mat)=c(1:ncol(bp.mat))\n",
    "group=c(rep(1,ncol(control.mat)),rep(2,ncol(treated.mat)))"
   ]
  },
  {
   "cell_type": "code",
   "execution_count": null,
   "id": "ca147ddf",
   "metadata": {},
   "outputs": [],
   "source": [
    "#First, choose IDs of all cells of the control group for estimating parameters of BP models\n",
    "controlIds=which(group==1)\n",
    "#Create a design matrix including the group labels. All batch effects can be also added here if they are available\n",
    "design=model.matrix(~group) \n",
    "#Select the column in the design matrix corresponding to the coefficient (the group label) for the GLM model testing\n",
    "coef=2 \n",
    "#Run BPglm for differential expression analysis\n",
    "res=BPglm(data=bp.mat, controlIds=controlIds, design=design, coef=coef, estIntPar=FALSE, useParallel=FALSE) "
   ]
  },
  {
   "cell_type": "code",
   "execution_count": null,
   "id": "fa1c542e",
   "metadata": {},
   "outputs": [],
   "source": [
    "#Plot the p-value distribution\n",
    "res$PVAL\n",
    "hist(res$PVAL, breaks=20)"
   ]
  },
  {
   "cell_type": "code",
   "execution_count": null,
   "id": "fa856e70",
   "metadata": {},
   "outputs": [],
   "source": [
    "#Summarize the resutls\n",
    "summary(res)"
   ]
  },
  {
   "cell_type": "code",
   "execution_count": null,
   "id": "d4f123e6",
   "metadata": {},
   "outputs": [],
   "source": [
    "# Log fold change + p-value from BPSC results\n",
    "PVAL<-as.data.frame(res$PVAL)\n",
    "results <- cbind(logFC,res$PVAL)\n",
    "colnames(results) <- c('gene','logFC','P-value')\n",
    "results"
   ]
  },
  {
   "cell_type": "markdown",
   "id": "37bd340b",
   "metadata": {},
   "source": [
    "# BiomRT"
   ]
  },
  {
   "cell_type": "code",
   "execution_count": null,
   "id": "fb4698d0",
   "metadata": {},
   "outputs": [],
   "source": [
    "# Use biomRT package to get access to WormBase ParaSite BioMart\n",
    "# Establish a connection to the WormBase ParaSite BioMart\n",
    "mart <- useMart(\"parasite_mart\", dataset = \"wbps_gene\", host = \"https://parasite.wormbase.org\", port = 443)"
   ]
  },
  {
   "cell_type": "code",
   "execution_count": null,
   "id": "35ce1647",
   "metadata": {},
   "outputs": [],
   "source": [
    "# Retrieve the GO terms\n",
    "gene_info <- getBM(filters=\"wbps_gene_id\", \n",
    "  attributes=c(\"wbps_gene_id\", \"go_accession\",\"go_name_1006\"), \n",
    "  values=row.names(data_matrix), \n",
    "  mart=mart,\n",
    "  uniqueRows=FALSE)"
   ]
  },
  {
   "cell_type": "code",
   "execution_count": null,
   "id": "6867bcba",
   "metadata": {},
   "outputs": [],
   "source": [
    "dim(gene_info) "
   ]
  },
  {
   "cell_type": "code",
   "execution_count": null,
   "id": "280c62e5",
   "metadata": {},
   "outputs": [],
   "source": [
    "head(gene_info)"
   ]
  },
  {
   "cell_type": "markdown",
   "id": "0913ec3c",
   "metadata": {},
   "source": [
    "# Calculate variance on foldchange"
   ]
  },
  {
   "cell_type": "code",
   "execution_count": null,
   "id": "b4eccc38",
   "metadata": {},
   "outputs": [],
   "source": [
    "#Here the first results(only two cell types) is used!!\n",
    "pvalue <- results$`P-value` #### the pvalue column\n",
    "zscore <- qnorm(pvalue/2.0, lower.tail=FALSE) #### convert the pvalue to z-score\n",
    "fc <- results$logFC ## the fold change column\n",
    "se_beta <- abs(fc/zscore) ## to approximate the standard error of beta\n",
    "var = se_beta^2  ### square "
   ]
  },
  {
   "cell_type": "code",
   "execution_count": null,
   "id": "13fbd9f8",
   "metadata": {},
   "outputs": [],
   "source": [
    "# Summary is a matrix of fold change and variance of each gene\n",
    "summary = data.frame(fc = fc,variance = var,row.names = results$gene)"
   ]
  },
  {
   "cell_type": "code",
   "execution_count": null,
   "id": "2746eeb5",
   "metadata": {},
   "outputs": [],
   "source": [
    "# get annotation data\n",
    "# know how many go terms we have\n",
    "length(unique(gene_info$go_name))#6907\n",
    "if (\"annotation.RData\" %in% dir()){\n",
    "    load(file=\"annotation.RData\")\n",
    "} else {\n",
    "    annotation<-matrix(0,nrow =nrow(summary) ,ncol = 6907)\n",
    "    rownames(annotation)<-results$gene\n",
    "    colnames(annotation)<-unique(gene_info$go_name_1006)\n",
    "    for (i in 1:nrow(annotation)) {\n",
    "      for (j in 1:ncol(annotation)) {\n",
    "        index<-which(gene_info$wbps_gene_id==rownames(annotation)[i])\n",
    "        for (k in 1:length(index)) {\n",
    "          if(gene_info$go_name_1006[k]==colnames(annotation)[j]) {\n",
    "            annotation[i,j]=1\n",
    "          }\n",
    "        }\n",
    "      }\n",
    "    }\n",
    "    save(annotation, file=\"annotation.RData\")\n",
    "}"
   ]
  },
  {
   "cell_type": "markdown",
   "id": "e18874f4",
   "metadata": {},
   "source": [
    "# iDEA"
   ]
  },
  {
   "cell_type": "code",
   "execution_count": null,
   "id": "f13cf760",
   "metadata": {},
   "outputs": [],
   "source": [
    "#create idea object\n",
    "idea<-CreateiDEAObject(summary,annotation)"
   ]
  },
  {
   "cell_type": "code",
   "execution_count": null,
   "id": "c16efbd8",
   "metadata": {},
   "outputs": [],
   "source": [
    "#Fit the model\n",
    "options(mc.cores = 1) # to fix an error. Has to do with problems in parallelization \n",
    "idea <- iDEA.fit(idea)"
   ]
  },
  {
   "cell_type": "code",
   "execution_count": null,
   "id": "8a8e8a58",
   "metadata": {},
   "outputs": [],
   "source": [
    "#correct p-values\n",
    "idea <- iDEA.louis(idea)"
   ]
  },
  {
   "cell_type": "code",
   "execution_count": null,
   "id": "26120c5c",
   "metadata": {},
   "outputs": [],
   "source": [
    "#get output\n",
    "idea@gsea"
   ]
  },
  {
   "cell_type": "code",
   "execution_count": null,
   "id": "dcc604d2",
   "metadata": {},
   "outputs": [],
   "source": [
    "#DE analysis of individual gene\n",
    "#with pre-selected genes\n",
    "pip = unlist(idea@de[[\"membrane\"]]$pip)\n",
    "head(pip)"
   ]
  },
  {
   "cell_type": "code",
   "execution_count": null,
   "id": "ada15678",
   "metadata": {},
   "outputs": [],
   "source": [
    "#without pre-selected genes\n",
    "idea <- iDEA.BMA(idea)\n",
    "head(idea@BMA_pip)"
   ]
  },
  {
   "cell_type": "markdown",
   "id": "4acf7019",
   "metadata": {},
   "source": [
    "# Save Workspace image in case of too little time"
   ]
  },
  {
   "cell_type": "code",
   "execution_count": null,
   "id": "906b748d",
   "metadata": {},
   "outputs": [],
   "source": [
    "save.image(file=\"workspaceWith90Ideas.RData\")"
   ]
  },
  {
   "cell_type": "markdown",
   "id": "935e1647",
   "metadata": {},
   "source": [
    "# Generalize the small test to all possible combinations of cell types"
   ]
  },
  {
   "cell_type": "markdown",
   "id": "260a408b",
   "metadata": {},
   "source": [
    "We'll look at a limited number of genes that are related to the cytoskeleton and growth. "
   ]
  },
  {
   "cell_type": "code",
   "execution_count": null,
   "id": "34148938",
   "metadata": {},
   "outputs": [],
   "source": [
    "genes_of_interest = as.matrix(read.delim(\"genes_of_interest.txt\", head=FALSE))\n",
    "genes_index = which(gene_annotation[,2] %in% genes_of_interest)\n",
    "geneIDs = gene_annotation[genes_index,1]"
   ]
  },
  {
   "cell_type": "markdown",
   "id": "f0dfd12f",
   "metadata": {},
   "source": [
    "We look at all combinations of cell types"
   ]
  },
  {
   "cell_type": "code",
   "execution_count": null,
   "id": "23208a5d",
   "metadata": {},
   "outputs": [],
   "source": [
    "combinations = data.frame()\n",
    "for (i in 1:(length(unique_cell_types)-1)){\n",
    "    for (j in (i+1):length(unique_cell_types)){\n",
    "        row = c(i,j)\n",
    "        combinations = rbind(combinations, row)\n",
    "    }\n",
    "}"
   ]
  },
  {
   "cell_type": "markdown",
   "id": "5fa04fc7",
   "metadata": {},
   "source": [
    "Until now it's just for comparison of two cell types, so the following code is for adding the iDea analysis to the \"for loop\" for several pair-wise comparisons."
   ]
  },
  {
   "cell_type": "code",
   "execution_count": null,
   "id": "a50b8a12",
   "metadata": {},
   "outputs": [],
   "source": [
    "annotation = sparseMatrix(i=nrow(sce_cpm),\n",
    "                          j=length(unique(gene_info$go_name)),\n",
    "                          x=0\n",
    "                           )\n",
    "rownames(annotation)<-rownames(sce_cpm)\n",
    "colnames(annotation)<-unique(gene_info$go_name_1006)"
   ]
  },
  {
   "cell_type": "code",
   "execution_count": null,
   "id": "f22fddf0",
   "metadata": {},
   "outputs": [],
   "source": [
    "for (i in 1:nrow(annotation)) {\n",
    "    if (i%%100==0) i\n",
    "    index<-which(gene_info$wbps_gene_id==rownames(annotation)[i])\n",
    "    if (length(index)==0) next\n",
    "    for (j in 1:ncol(annotation)) {\n",
    "      for (k in 1:length(index)) {\n",
    "        if(gene_info$go_name_1006[k]==colnames(annotation)[j]) {\n",
    "          annotation[i,j]=1\n",
    "        }\n",
    "      }\n",
    "    }\n",
    "}"
   ]
  },
  {
   "cell_type": "code",
   "execution_count": null,
   "id": "df2bbcb2",
   "metadata": {},
   "outputs": [],
   "source": [
    "annotation_matrix = as.matrix(annotation)\n",
    "annotation_df = as.data.frame(annotation_matrix)\n",
    "annotation = annotation_df"
   ]
  },
  {
   "cell_type": "code",
   "execution_count": null,
   "id": "f15386f7",
   "metadata": {
    "scrolled": true
   },
   "outputs": [],
   "source": [
    "# Create a list for log fold change + p-value from BPSC results and for iDEA results\n",
    "results <- list()\n",
    "list_of_idea = list()\n",
    "\n",
    "options(mc.cores = 1) # to fix an error. Has to do with problems in parallelization in idea\n",
    "\n",
    "for (i in 1:90){\n",
    "  print(i)\n",
    "  startTime = Sys.time()\n",
    "  #Define the two groups to be compared (Remember of remove 1:20 when we run it for the whole data containing all the cells in a time bin!!!)\n",
    "  control.mat=sce_cpm[geneIDs,cell_indices[[combinations[i,1]]]]\n",
    "  treated.mat=sce_cpm[geneIDs,cell_indices[[combinations[i,2]]]]\n",
    "  #Create a data set by merging the control group and the treated group\n",
    "  bp.mat=cbind(control.mat,treated.mat)\n",
    "  rownames(bp.mat)=c(1:nrow(bp.mat))\n",
    "  colnames(bp.mat)=c(1:ncol(bp.mat))\n",
    "  group=c(rep(1,ncol(control.mat)),rep(2,ncol(treated.mat)))\n",
    "  #Run BPglm for differential expression analysis\n",
    "  res=BPglm(data=bp.mat, controlIds=which(lapply(group, as.numeric)==1), design=model.matrix(~group), coef=2, estIntPar=FALSE, useParallel=FALSE)\n",
    "  \n",
    "  # Use MAST to compute logFC based on the raw counts\n",
    "  control.countData=sce_filtered[geneIDs,cell_indices[[combinations[i,1]]]]\n",
    "  treated.countData=sce_filtered[geneIDs,cell_indices[[combinations[i,2]]]]\n",
    "  countData <- cbind(control.countData,treated.countData)\n",
    "  cellType <- as.data.frame(rep(c(1,2), c(ncol(control.countData),ncol(treated.countData))))\n",
    "  colnames(cellType) <- \"CellType\"\n",
    "  colData(countData) <- cbind(colData(countData),cellType)\n",
    "  colData(countData)$CellType<-factor(colData(countData)$CellType)\n",
    "  countData<-SceToSingleCellAssay(countData, class = \"SingleCellAssay\",check_sanity = FALSE)\n",
    "  zlmCond <- zlm(~CellType, countData)\n",
    "  logFC<-getLogFC(zlmCond)[,c(1,3)]\n",
    "    \n",
    "  # Log fold change + p-value from BPSC\n",
    "  PVAL<-as.data.frame(res$PVAL)\n",
    "  result <- cbind(logFC,res$PVAL)\n",
    "  colnames(result) <- c('gene','logFC','P-value')\n",
    "  results[[paste(unique_cell_types[combinations[i,1]],unique_cell_types[combinations[i,2]], sep=\" vs. \")]]=result\n",
    "  \n",
    "  ###iDEA\n",
    "  #calculate variance\n",
    "  #Here the first results(only two cell types) is used!!\n",
    "  pvalue <- result$`P-value` #### the pvalue column\n",
    "  zscore <- qnorm(pvalue/2.0, lower.tail=FALSE) #### convert the pvalue to z-score\n",
    "  fc <- result$logFC ## the fold change column\n",
    "  se_beta <- abs(fc/zscore) ## to approximate the standard error of beta\n",
    "  var = se_beta^2  ### square \n",
    "  summary = data.frame(fc = fc,variance = var,row.names = result$gene)# Summary is a matrix of fold change and variance of each gene\n",
    "  \n",
    "  #create idea object\n",
    "  idea<-CreateiDEAObject(summary,annotation[geneIDs,])\n",
    "  #Fit the model\n",
    "  idea <- iDEA.fit(idea)\n",
    "  #correct p-values\n",
    "  idea <- iDEA.louis(idea)\n",
    "  #DE analysis of individual gene\n",
    "  #with pre-selected genes\n",
    "  pip = unlist(idea@de[[\"membrane\"]]$pip)\n",
    "  #without pre-selected genes\n",
    "  idea <- iDEA.BMA(idea)\n",
    "    \n",
    "  #Save idea to list, so we can do analysis later\n",
    "  list_of_idea <- cbind(list_of_idea,idea)\n",
    "  \n",
    "  stopTime = Sys.time()\n",
    "  print(stopTime-startTime)\n",
    "} "
   ]
  },
  {
   "cell_type": "code",
   "execution_count": null,
   "id": "842d82ef",
   "metadata": {},
   "outputs": [],
   "source": [
    "save(annotation, file=\"annotation.RData\")"
   ]
  },
  {
   "cell_type": "code",
   "execution_count": null,
   "id": "560b7cf5",
   "metadata": {},
   "outputs": [],
   "source": [
    "save(list_of_idea, file=\"list_of_idea.RData\")"
   ]
  },
  {
   "cell_type": "code",
   "execution_count": null,
   "id": "9f039109",
   "metadata": {},
   "outputs": [],
   "source": [
    "save.image(\"workspace.RData\",compress=TRUE)"
   ]
  },
  {
   "cell_type": "markdown",
   "id": "d1f46e5a",
   "metadata": {},
   "source": [
    "# Visualization"
   ]
  },
  {
   "cell_type": "code",
   "execution_count": null,
   "id": "0df0177c",
   "metadata": {},
   "outputs": [],
   "source": []
  }
 ],
 "metadata": {
  "kernelspec": {
   "display_name": "r41env",
   "language": "R",
   "name": "r41env"
  },
  "language_info": {
   "codemirror_mode": "r",
   "file_extension": ".r",
   "mimetype": "text/x-r-source",
   "name": "R",
   "pygments_lexer": "r",
   "version": "4.1.1"
  }
 },
 "nbformat": 4,
 "nbformat_minor": 5
}
